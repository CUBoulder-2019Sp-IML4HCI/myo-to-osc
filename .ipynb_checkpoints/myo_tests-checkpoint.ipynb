{
 "cells": [
  {
   "cell_type": "markdown",
   "metadata": {
    "deletable": true,
    "editable": true
   },
   "source": [
    "# Testing Myo Connection"
   ]
  },
  {
   "cell_type": "code",
   "execution_count": null,
   "metadata": {
    "collapsed": true,
    "deletable": true,
    "editable": true
   },
   "outputs": [],
   "source": [
    "from myo_raw import MyoRaw"
   ]
  },
  {
   "cell_type": "code",
   "execution_count": null,
   "metadata": {
    "collapsed": true,
    "deletable": true,
    "editable": true
   },
   "outputs": [],
   "source": [
    "# def proc_emg(emg, moving, times=[]):\n",
    "#     print(emg, end='\\r')\n",
    "    \n",
    "def proc_imu(quat, acc, gyro):\n",
    "    print(\"quat:\", quat, end='\\r')\n",
    "\n",
    "m = MyoRaw(tty=\"/dev/tty.usbmodem1\")\n",
    "# m.add_emg_handler(proc_emg)\n",
    "m.connect()\n",
    "\n",
    "#m.add_arm_handler(lambda arm, xdir: print('arm', arm, 'xdir', xdir, end='\\r'))\n",
    "#m.add_pose_handler(lambda p: print('pose', p, end='\\r'))\n",
    "# m.add_imu_handler(lambda quat, acc, gyro: print('quaternion', quat))\n",
    "m.sleep_mode(1)\n",
    "#m.set_leds([128, 128, 255], [128, 128, 255])  # purple logo and bar LEDs\n",
    "m.vibrate(1)"
   ]
  },
  {
   "cell_type": "code",
   "execution_count": null,
   "metadata": {
    "collapsed": true,
    "deletable": true,
    "editable": true
   },
   "outputs": [],
   "source": [
    "try:\n",
    "    while True:\n",
    "        m.run(1)\n",
    "except KeyboardInterrupt:\n",
    "    pass\n",
    "finally:\n",
    "    m.disconnect()\n",
    "    print(\"Disconnected\")"
   ]
  },
  {
   "cell_type": "code",
   "execution_count": null,
   "metadata": {
    "collapsed": true,
    "deletable": true,
    "editable": true
   },
   "outputs": [],
   "source": []
  },
  {
   "cell_type": "code",
   "execution_count": null,
   "metadata": {
    "collapsed": true,
    "deletable": true,
    "editable": true
   },
   "outputs": [],
   "source": []
  },
  {
   "cell_type": "code",
   "execution_count": null,
   "metadata": {
    "collapsed": true,
    "deletable": true,
    "editable": true
   },
   "outputs": [],
   "source": []
  }
 ],
 "metadata": {
  "kernelspec": {
   "display_name": "Python 2",
   "language": "python",
   "name": "python2"
  },
  "language_info": {
   "codemirror_mode": {
    "name": "ipython",
    "version": 2
   },
   "file_extension": ".py",
   "mimetype": "text/x-python",
   "name": "python",
   "nbconvert_exporter": "python",
   "pygments_lexer": "ipython2",
   "version": "2.7.13"
  }
 },
 "nbformat": 4,
 "nbformat_minor": 2
}
